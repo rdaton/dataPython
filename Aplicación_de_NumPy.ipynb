{
 "cells": [
  {
   "cell_type": "markdown",
   "metadata": {},
   "source": [
    "Los datos contenidos en el fichero datos.txt describe las poblaciones de tres tipos de serpientes en el sur de Africa durante 20 años."
   ]
  },
  {
   "cell_type": "code",
   "execution_count": 1,
   "metadata": {
    "collapsed": false
   },
   "outputs": [
    {
     "data": {
      "text/plain": [
       "array([[  2000.,  30000.,   3000.,  38300.],\n",
       "       [  2001.,  37200.,   6100.,  48200.],\n",
       "       [  2002.,  60200.,   9800.,  31600.],\n",
       "       [  2003.,  77300.,  36200.,  38200.],\n",
       "       [  2004.,  36300.,  69300.,  30600.],\n",
       "       [  2005.,  20600.,  31700.,  49800.],\n",
       "       [  2006.,  18100.,  19000.,  38600.],\n",
       "       [  2007.,  21300.,  13000.,  32300.],\n",
       "       [  2008.,  22000.,   8300.,  43600.],\n",
       "       [  2009.,  26300.,   9100.,  32100.],\n",
       "       [  2010.,  27100.,   7300.,  36000.],\n",
       "       [  2011.,  30300.,   8000.,  36800.],\n",
       "       [  2012.,  67000.,  12300.,  33800.],\n",
       "       [  2013.,  76600.,  19600.,  30900.],\n",
       "       [  2014.,  62300.,  36700.,  49300.],\n",
       "       [  2015.,  19600.,  61100.,  39000.],\n",
       "       [  2016.,  11200.,  29700.,  36700.],\n",
       "       [  2017.,   7600.,  16800.,  41800.],\n",
       "       [  2018.,  13600.,   9700.,  33300.],\n",
       "       [  2019.,  16200.,  10100.,  31300.],\n",
       "       [  2020.,  23700.,   8600.,  47300.]])"
      ]
     },
     "execution_count": 1,
     "metadata": {},
     "output_type": "execute_result"
    }
   ],
   "source": [
    "import numpy as np\n",
    "data = np.loadtxt('./datos.txt')    # carga de los datos\n",
    "data"
   ]
  },
  {
   "cell_type": "code",
   "execution_count": null,
   "metadata": {
    "collapsed": true
   },
   "outputs": [],
   "source": []
  }
 ],
 "metadata": {
  "kernelspec": {
   "display_name": "Python 3",
   "language": "python",
   "name": "python3"
  },
  "language_info": {
   "codemirror_mode": {
    "name": "ipython",
    "version": 3
   },
   "file_extension": ".py",
   "mimetype": "text/x-python",
   "name": "python",
   "nbconvert_exporter": "python",
   "pygments_lexer": "ipython3",
   "version": "3.6.0"
  }
 },
 "nbformat": 4,
 "nbformat_minor": 2
}
