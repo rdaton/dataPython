{
 "cells": [
  {
   "cell_type": "markdown",
   "metadata": {},
   "source": [
    "# Acceso a los datos de la web\n",
    "\n",
    "### Web Scraping"
   ]
  },
  {
   "cell_type": "markdown",
   "metadata": {},
   "source": [
    "El __Web Scraping__ (o Scraping) son un conjunto de técnicas que se utilizan para obtener de forma automática el contenido que hay en páginas web a través de su código HTML. \n",
    "* Es una opción cuando no hay API's para extraer datos de la web\n",
    "* Otros términos:\n",
    "    * \"Spydering the web\"\n",
    "    * \"Web crawling\"\n",
    "\n",
    "Las técnicas de Scraping se pueden enmarcar dentro del campo del Big Data en la primera fase de recolección de datos para su posterior almacenamiento, tratamiento y visualización.\n",
    "\n",
    "El uso de estas técnicas tienen como finalidad recopilar grandes cantidades de datos de diferentes páginas web cuyo uso posterior puede ser muy variado:\n",
    "\n",
    "  * homogenización de datos, \n",
    "  * tratamiento de contenido para la extracción de conocimiento, \n",
    "  * complementar datos en una web, etc.\n"
   ]
  },
  {
   "cell_type": "markdown",
   "metadata": {},
   "source": [
    "__Realizar una petición__\n",
    "\n",
    "La página web con la que vamos a jugar es:\n",
    "\"https://es.wikipedia.org/wiki/Anexo:Municipios_de_la_Comunidad_de_Madrid\"\n",
    " que contiene datos de la lista de municipios de la Comunidad de Madrid.\n",
    " \n",
    "Para acceder al contenido de una página web usamos el protocolo HTTP Request/Response. \n",
    "\n",
    "A continuación adjunto una función capaz de hacer una conexión HTTP para acceder a una página web y extraer información.\n",
    "\n"
   ]
  },
  {
   "cell_type": "code",
   "execution_count": 1,
   "metadata": {
    "collapsed": true
   },
   "outputs": [],
   "source": [
    "import requests\n",
    "\n",
    "url = \"https://es.wikipedia.org/wiki/Anexo:Municipios_de_la_Comunidad_de_Madrid\"\n",
    "\n",
    "# Realizamos la petición HTTP a la web\n",
    "response = requests.get(url)"
   ]
  },
  {
   "cell_type": "markdown",
   "metadata": {},
   "source": [
    "* La función __get__ del módulo __request__ de Python abre una conexión con el servidor donde se encuentra la url (parámetro de  __get__) y manda la petición.\n",
    "\n",
    "* La respuesta del servidor se almacena en la variable (u objeto) _response_.\n",
    "\n",
    "* A partir del objeto _response_, que almacena muchos datos relacionados con la petición HTTP (cabeceras, cookies, etc.) obtenemos el __status_code__ y el __HTML__ (como un string) de la web. "
   ]
  },
  {
   "cell_type": "code",
   "execution_count": 2,
   "metadata": {
    "collapsed": false
   },
   "outputs": [
    {
     "data": {
      "text/plain": [
       "200"
      ]
     },
     "execution_count": 2,
     "metadata": {},
     "output_type": "execute_result"
    }
   ],
   "source": [
    "response.status_code        # atributo status_code: nos indicará si la petición \n",
    "                            # ha tenido éxito"
   ]
  },
  {
   "cell_type": "code",
   "execution_count": 3,
   "metadata": {
    "collapsed": false
   },
   "outputs": [
    {
     "name": "stdout",
     "output_type": "stream",
     "text": [
      "La petición ha ido bien\n"
     ]
    }
   ],
   "source": [
    "# Comprobamos que la petición nos devuelve un Status Code = 200\n",
    "statusCode = response.status_code \n",
    "\n",
    "if statusCode == 200:\n",
    "    print('La petición ha ido bien')\n",
    "else:\n",
    "    print('Problemas con la petición...')"
   ]
  },
  {
   "cell_type": "markdown",
   "metadata": {},
   "source": [
    "A partir del objeto __response__, que almacena muchos datos relacionados con la petición HTTP (cabeceras, cookies, etc.) obtenemos el __status_Code__ y el __HTML__ (como un string) de la web. "
   ]
  },
  {
   "cell_type": "code",
   "execution_count": 4,
   "metadata": {
    "collapsed": false
   },
   "outputs": [],
   "source": [
    "htmlText = response.text\n"
   ]
  },
  {
   "cell_type": "markdown",
   "metadata": {},
   "source": [
    "__Extraer información__\n",
    "\n",
    "A partir del string __htmlText__ que representa el código interno de la pagina web, parseamos la web para extraer la información que nos interesa.\n",
    "\n",
    "Mecanismos:\n",
    "\n",
    "* Usar expresiones regulares para localizar cadenas: esto puede ser muy laborioso, y pesado ...\n",
    "    \n",
    "    \n",
    "    \n",
    "* Usar alguna de las librerías de Python que permiten parsear el texto HTML de forma cómoda. \n",
    "    * __BeautifullSoup__ \n",
    "    * __Scrapy__\n",
    "    \n",
    "    \n",
    "__BeautifulSoup__  nos aporta los métodos necesarios (y muy bien optimizados) para obtener el contenido que hay entre las etiquetas HTML."
   ]
  },
  {
   "cell_type": "code",
   "execution_count": 5,
   "metadata": {
    "collapsed": false
   },
   "outputs": [],
   "source": [
    "from bs4 import BeautifulSoup\n",
    "\n",
    "# Pasamos el contenido HTML de la web a un objeto BeautifulSoup()\n",
    "soup = BeautifulSoup(htmlText, 'html.parser')\n"
   ]
  },
  {
   "cell_type": "markdown",
   "metadata": {},
   "source": [
    "### Recuperar los datos de la tabla\n",
    "\n",
    "Las tablas de HTML se definen con tres etiquetas: `<table>` para crear la tabla, `<tr>` para crear cada fila y `<td>` para crear cada columna."
   ]
  },
  {
   "cell_type": "code",
   "execution_count": 6,
   "metadata": {
    "collapsed": false
   },
   "outputs": [
    {
     "data": {
      "text/html": [
       "\n",
       "<table>\n",
       "    <tr>\n",
       "      <th><strong>Curso</strong></th>\n",
       "      <th><strong>Horas</strong></th>\n",
       "    </tr>\n",
       " \n",
       "    <tr>\n",
       "      <td>CSS</td>\n",
       "      <td>20</td>\n",
       "    </tr>\n",
       " \n",
       "    <tr>\n",
       "      <td>HTML</td>\n",
       "      <td>20</td>\n",
       "    </tr>\n",
       "</table>"
      ],
      "text/plain": [
       "<IPython.core.display.HTML object>"
      ]
     },
     "execution_count": 6,
     "metadata": {},
     "output_type": "execute_result"
    }
   ],
   "source": [
    "from IPython.display import HTML\n",
    "s = \"\"\"\n",
    "<table>\n",
    "    <tr>\n",
    "      <th><strong>Curso</strong></th>\n",
    "      <th><strong>Horas</strong></th>\n",
    "    </tr>\n",
    " \n",
    "    <tr>\n",
    "      <td>CSS</td>\n",
    "      <td>20</td>\n",
    "    </tr>\n",
    " \n",
    "    <tr>\n",
    "      <td>HTML</td>\n",
    "      <td>20</td>\n",
    "    </tr>\n",
    "</table>\"\"\"\n",
    "HTML(s)"
   ]
  },
  {
   "cell_type": "markdown",
   "metadata": {},
   "source": [
    "__Ejemplo:__ Queremos recuperar los datos de la tabla que aparece en la página  [Municipios Madrid](https://es.wikipedia.org/wiki/Anexo:Municipios_de_la_Comunidad_de_Madrid).\n",
    "\n",
    "En este caso utilizamos el método __find_all()__ que lo que hace es coger todos los fragmentos del HTML que correpondan a las etiquetas __tr__ y __td__."
   ]
  },
  {
   "cell_type": "code",
   "execution_count": 7,
   "metadata": {
    "collapsed": false
   },
   "outputs": [],
   "source": [
    "content = {}\n",
    "# Obtenemos cada una de las filas de la tabla \n",
    "rows = soup.find_all('tr')\n",
    "for r in rows:\n",
    "    #Seleccionamos las celdas de la tabla (td)\n",
    "    celdas=r.find_all('td')\n",
    "    # ignoramos la primera celda, que no tiene elementos td sino th (ver HTML de la página web)\n",
    "    if len(celdas)>0:\n",
    "        # En lugar de un separador de miles, se ha usado un caracter parecido a un espacio en blanco\n",
    "        # por lo que en la celda de habitantes hay que eliminar todos los caracteres que no sean números\n",
    "        #content.append([celdas[0].string, ''.join(c for c in celdas[1].string if c.isdigit())])\n",
    "        content[celdas[0].string] = { 'población': int( ''.join(c for c in celdas[1].string if c.isdigit())),\n",
    "                                      'superficie': float(celdas[2].string.replace(',', '.') ),\n",
    "                                      'altitud': int( ''.join(c for c in celdas[6].string if c.isdigit())),}\n"
   ]
  },
  {
   "cell_type": "code",
   "execution_count": 8,
   "metadata": {
    "collapsed": false
   },
   "outputs": [
    {
     "data": {
      "text/plain": [
       "{'altitud': 818, 'población': 12168, 'superficie': 93.68}"
      ]
     },
     "execution_count": 8,
     "metadata": {},
     "output_type": "execute_result"
    }
   ],
   "source": [
    "content['Valdemorillo']"
   ]
  },
  {
   "cell_type": "markdown",
   "metadata": {},
   "source": [
    "#### 1 Ejercicio"
   ]
  },
  {
   "cell_type": "markdown",
   "metadata": {},
   "source": [
    "Calcula la población total de todos los municipios."
   ]
  },
  {
   "cell_type": "code",
   "execution_count": 136,
   "metadata": {
    "collapsed": false
   },
   "outputs": [
    {
     "data": {
      "text/plain": [
       "6466996"
      ]
     },
     "execution_count": 136,
     "metadata": {},
     "output_type": "execute_result"
    }
   ],
   "source": [
    "sum ([i['población'] for i in content.values()])"
   ]
  },
  {
   "cell_type": "markdown",
   "metadata": {},
   "source": [
    "#### 2 Ejercicio\n",
    "\n",
    "Obtener un listado de los municipios cuya altitud sea por encima de los 700 metros."
   ]
  },
  {
   "cell_type": "code",
   "execution_count": 158,
   "metadata": {
    "collapsed": false
   },
   "outputs": [
    {
     "data": {
      "text/plain": [
       "['La Acebeda',\n",
       " 'Alameda del Valle',\n",
       " 'Alcorcón',\n",
       " 'Algete',\n",
       " 'Alpedrete',\n",
       " 'Anchuelo',\n",
       " 'El Atazar',\n",
       " 'Becerril de la Sierra',\n",
       " 'Belmonte de Tajo',\n",
       " 'El Berrueco',\n",
       " 'Berzosa del Lozoya',\n",
       " 'El Boalo',\n",
       " 'Braojos de la Sierra',\n",
       " 'Brea de Tajo',\n",
       " 'Buitrago del Lozoya',\n",
       " 'Bustarviejo',\n",
       " 'Cabanillas de la Sierra',\n",
       " 'La Cabrera',\n",
       " 'Cadalso de los Vidrios',\n",
       " 'Campo Real',\n",
       " 'Canencia',\n",
       " 'Cenicientos',\n",
       " 'Cercedilla',\n",
       " 'Cervera de Buitrago',\n",
       " 'Chinchón',\n",
       " 'Collado Mediano',\n",
       " 'Collado Villalba',\n",
       " 'Colmenar de Oreja',\n",
       " 'Colmenar Viejo',\n",
       " 'Colmenarejo',\n",
       " 'Corpa',\n",
       " 'El Escorial',\n",
       " 'Fresnedillas de la Oliva',\n",
       " 'Galapagar',\n",
       " 'Garganta de los Montes',\n",
       " 'Gargantilla del Lozoya y Pinilla de Buitrago',\n",
       " 'Gascones',\n",
       " 'Guadalix de la Sierra',\n",
       " 'Guadarrama',\n",
       " 'La Hiruela',\n",
       " 'Horcajo de la Sierra-Aoslos',\n",
       " 'Horcajuelo de la Sierra',\n",
       " 'Hoyo de Manzanares',\n",
       " 'Lozoya',\n",
       " 'Lozoyuela-Navas-Sieteiglesias',\n",
       " 'Madarcos',\n",
       " 'Majadahonda',\n",
       " 'Manzanares el Real',\n",
       " 'Miraflores de la Sierra',\n",
       " 'El Molar',\n",
       " 'Los Molinos',\n",
       " 'Montejo de la Sierra',\n",
       " 'Moralzarzal',\n",
       " 'Navacerrada',\n",
       " 'Navalafuente',\n",
       " 'Navalagamella',\n",
       " 'Navarredonda y San Mamés',\n",
       " 'Navas del Rey',\n",
       " 'Nuevo Baztán',\n",
       " 'Olmeda de las Fuentes',\n",
       " 'Patones',\n",
       " 'Pedrezuela',\n",
       " 'Pezuela de las Torres',\n",
       " 'Pinilla del Valle',\n",
       " 'Piñuécar-Gandullas',\n",
       " 'Pozuelo del Rey',\n",
       " 'Prádena del Rincón',\n",
       " 'Puebla de la Sierra',\n",
       " 'Puentes Viejas',\n",
       " 'Rascafría',\n",
       " 'Redueña',\n",
       " 'Ribatejada',\n",
       " 'Robledillo de la Jara',\n",
       " 'Robledo de Chavela',\n",
       " 'Robregordo',\n",
       " 'Las Rozas de Madrid',\n",
       " 'Rozas de Puerto Real',\n",
       " 'San Lorenzo de El Escorial',\n",
       " 'Santa María de la Alameda',\n",
       " 'Santorcaz',\n",
       " 'Los Santos de la Humosa',\n",
       " 'La Serna del Monte',\n",
       " 'Somosierra',\n",
       " 'Soto del Real',\n",
       " 'Torrelaguna',\n",
       " 'Torrelodones',\n",
       " 'Torremocha de Jarama',\n",
       " 'Tres Cantos',\n",
       " 'Valdaracete',\n",
       " 'Valdeavero',\n",
       " 'Valdemanco',\n",
       " 'Valdemaqueda',\n",
       " 'Valdemorillo',\n",
       " 'Valdepiélagos',\n",
       " 'Valdilecha',\n",
       " 'Valverde de Alcalá',\n",
       " 'El Vellón',\n",
       " 'Venturada',\n",
       " 'Villalbilla',\n",
       " 'Villarejo de Salvanés',\n",
       " 'Villavieja del Lozoya',\n",
       " 'Zarzalejo']"
      ]
     },
     "execution_count": 158,
     "metadata": {},
     "output_type": "execute_result"
    }
   ],
   "source": [
    "# Sol:\n",
    "[i[0]  for i in  zip(content.keys(),content.values()) if (i[1]['altitud']>700)]"
   ]
  }
 ],
 "metadata": {
  "anaconda-cloud": {},
  "kernelspec": {
   "display_name": "Python 3",
   "language": "python",
   "name": "python3"
  },
  "language_info": {
   "codemirror_mode": {
    "name": "ipython",
    "version": 3
   },
   "file_extension": ".py",
   "mimetype": "text/x-python",
   "name": "python",
   "nbconvert_exporter": "python",
   "pygments_lexer": "ipython3",
   "version": "3.6.0"
  }
 },
 "nbformat": 4,
 "nbformat_minor": 0
}
