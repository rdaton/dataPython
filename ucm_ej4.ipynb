{
 "cells": [
  {
   "cell_type": "markdown",
   "metadata": {},
   "source": [
    "# Ejercicios 4"
   ]
  },
  {
   "cell_type": "markdown",
   "metadata": {},
   "source": [
    "#### 1 Ejercicio"
   ]
  },
  {
   "cell_type": "markdown",
   "metadata": {},
   "source": [
    "* Crear un array de tamaño 20 donde todos los elementos estén inicializados a cero. Por favor llámalo __a__."
   ]
  },
  {
   "cell_type": "code",
   "execution_count": 1,
   "metadata": {
    "collapsed": false
   },
   "outputs": [
    {
     "data": {
      "text/plain": [
       "array([ 0.,  0.,  0.,  0.,  0.,  0.,  0.,  0.,  0.,  0.,  0.,  0.,  0.,\n",
       "        0.,  0.,  0.,  0.,  0.,  0.,  0.])"
      ]
     },
     "execution_count": 1,
     "metadata": {},
     "output_type": "execute_result"
    }
   ],
   "source": [
    "# Sol:\n",
    "import numpy as np\n",
    "a=np.zeros(20)\n",
    "a"
   ]
  },
  {
   "cell_type": "markdown",
   "metadata": {},
   "source": [
    "* Escribe una expresión Python para cambiar el valor de  los primeros 5 elementos; el nuevo valor es 10."
   ]
  },
  {
   "cell_type": "code",
   "execution_count": 2,
   "metadata": {
    "collapsed": false
   },
   "outputs": [
    {
     "data": {
      "text/plain": [
       "array([ 10.,  10.,  10.,  10.,  10.,   0.,   0.,   0.,   0.,   0.,   0.,\n",
       "         0.,   0.,   0.,   0.,   0.,   0.,   0.,   0.,   0.])"
      ]
     },
     "execution_count": 2,
     "metadata": {},
     "output_type": "execute_result"
    }
   ],
   "source": [
    "# Sol:\n",
    "a[:5]=10\n",
    "a"
   ]
  },
  {
   "cell_type": "markdown",
   "metadata": {},
   "source": [
    "* Modifica los siguientes 10 valores. Los nuevos valores serán el resultado de la secuencia de números pares comenzando por el 12. Utiliza la función __arange__."
   ]
  },
  {
   "cell_type": "code",
   "execution_count": 3,
   "metadata": {
    "collapsed": false
   },
   "outputs": [
    {
     "data": {
      "text/plain": [
       "array([ 10.,  10.,  10.,  10.,  10.,  12.,  14.,  16.,  18.,  20.,  22.,\n",
       "        24.,  26.,  28.,  30.,   0.,   0.,   0.,   0.,   0.])"
      ]
     },
     "execution_count": 3,
     "metadata": {},
     "output_type": "execute_result"
    }
   ],
   "source": [
    "# Sol:\n",
    "a[5:15]=np.arange(12,32,2)\n",
    "a"
   ]
  },
  {
   "cell_type": "markdown",
   "metadata": {},
   "source": [
    "* Modifica el valor de los últimos 5 elementos. Su nuevo valor es 30."
   ]
  },
  {
   "cell_type": "code",
   "execution_count": 4,
   "metadata": {
    "collapsed": false
   },
   "outputs": [
    {
     "data": {
      "text/plain": [
       "array([ 10.,  10.,  10.,  10.,  10.,  12.,  14.,  16.,  18.,  20.,  22.,\n",
       "        24.,  26.,  28.,  30.,  30.,  30.,  30.,  30.,  30.])"
      ]
     },
     "execution_count": 4,
     "metadata": {},
     "output_type": "execute_result"
    }
   ],
   "source": [
    "# Sol:\n",
    "a[-5:]=30\n",
    "a"
   ]
  },
  {
   "cell_type": "markdown",
   "metadata": {},
   "source": [
    "#### 2 Ejercicio"
   ]
  },
  {
   "cell_type": "markdown",
   "metadata": {},
   "source": [
    "El archivo de texto [holland_temperature.dat](./datos/holland_temperature.dat) recoge datos de las diferentes temperaturas registradas en Holanda en los últimos 12 meses.\n",
    "\n",
    "---\n",
    "a) Calcula la media de las temperaturas.\n",
    "   * Descarga el fichero [holland_temperature.dat](./datos/holland_temperature.dat) en tu directorio de trabajo.\n",
    "   * Carga los datos en una array llamado __temperatura__ mediante la función __loadtxt__.\n",
    "   * Utiliza la función __mean__ para calcular la media.\n",
    "    \n",
    "__Nota__: La media es 10.125."
   ]
  },
  {
   "cell_type": "code",
   "execution_count": 7,
   "metadata": {
    "collapsed": false
   },
   "outputs": [
    {
     "data": {
      "text/plain": [
       "10.125"
      ]
     },
     "execution_count": 7,
     "metadata": {},
     "output_type": "execute_result"
    }
   ],
   "source": [
    "# Sol\n",
    "temperatura=np.loadtxt('holland_temperature.dat')\n",
    "unaMedia=np.mean(temperatura)\n",
    "unaMedia"
   ]
  },
  {
   "cell_type": "markdown",
   "metadata": {},
   "source": [
    "------\n",
    "b) Nos interesa conocer los meses del año donde la temperatura ha sido superior a la media.\n",
    "   * Crear un array de meses [1,...,12]. Usa la función __arange__. \n",
    "   * Escribir la expresión que devuelve los meses donde la temperatura ha sido superior a la media usando como máscara un array de booleanos.\n",
    "    \n",
    "__Nota__: La solución es: [5,  6,  7,  8,  9, 10]"
   ]
  },
  {
   "cell_type": "code",
   "execution_count": 8,
   "metadata": {
    "collapsed": false
   },
   "outputs": [
    {
     "data": {
      "text/plain": [
       "array([ 5,  6,  7,  8,  9, 10])"
      ]
     },
     "execution_count": 8,
     "metadata": {},
     "output_type": "execute_result"
    }
   ],
   "source": [
    "# Sol:\n",
    "meses=np.arange(1,13)\n",
    "miMascara=(temperatura>unaMedia)\n",
    "meses[miMascara]"
   ]
  },
  {
   "cell_type": "markdown",
   "metadata": {},
   "source": [
    "-------\n",
    "c) Queremos saber qué mes ha estado más cerca de la media. \n",
    "* Para ello calcula el array de diferencias con respecto a la media (operación diferencia). \n",
    "* Luego utiliza la función __argmin__ de Numpy para calcular el índice del array que contiene el mínimo valor.\n",
    "\n",
    "__Nota__: la solución es: 'El mes más cercano a los 10.12 grados es el mes 9'"
   ]
  },
  {
   "cell_type": "code",
   "execution_count": 16,
   "metadata": {
    "collapsed": false
   },
   "outputs": [
    {
     "name": "stdout",
     "output_type": "stream",
     "text": [
      "El mes más cercano a los 10.12 grados es el mes 9 (Septiembre)\n"
     ]
    }
   ],
   "source": [
    "# Sol:\n",
    "import locale\n",
    "import calendar\n",
    "locale.setlocale(locale.LC_ALL, 'es_ES.UTF-8')\n",
    "\n",
    "aDiferencias=abs(temperatura-unaMedia)\n",
    "mesMinimo= np.argmin(aDiferencias)\n",
    "unaCadena=('El mes más cercano a los %.2f grados es el mes %.d '+'(' + calendar.month_name[mesMinimo].title() +')') % (unaMedia,mesMinimo)\n",
    "print(unaCadena)"
   ]
  },
  {
   "cell_type": "markdown",
   "metadata": {},
   "source": [
    "---------------------"
   ]
  }
 ],
 "metadata": {
  "anaconda-cloud": {},
  "kernelspec": {
   "display_name": "Python 3",
   "language": "python",
   "name": "python3"
  },
  "language_info": {
   "codemirror_mode": {
    "name": "ipython",
    "version": 3
   },
   "file_extension": ".py",
   "mimetype": "text/x-python",
   "name": "python",
   "nbconvert_exporter": "python",
   "pygments_lexer": "ipython3",
   "version": "3.6.0"
  }
 },
 "nbformat": 4,
 "nbformat_minor": 0
}
