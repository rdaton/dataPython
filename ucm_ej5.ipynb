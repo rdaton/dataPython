{
 "cells": [
  {
   "cell_type": "markdown",
   "metadata": {},
   "source": [
    "# Ejercicios 5"
   ]
  },
  {
   "cell_type": "markdown",
   "metadata": {},
   "source": [
    "#### 1 Ejercicio"
   ]
  },
  {
   "cell_type": "markdown",
   "metadata": {},
   "source": [
    "El fichero [oil_price.csv](./datos/oil_price_monthly.csv) contiene información mensual del precio del petróleo desde el año 1985. Abre el fichero y mira el aspecto que tiene.\n",
    "* La primera columna contiene el mes y el año en formato 'yyyy-mm'.\n",
    "* La segunda columna contiene el precio del barril expresado en euros.\n",
    "\n",
    "----\n",
    "* Realiza la carga del fichero utilizando la función __read_csv__ de pandas. El DataFrame creado debe tener como índices la fecha. Ha de llamarse `datos`.\n"
   ]
  },
  {
   "cell_type": "code",
   "execution_count": 1,
   "metadata": {
    "collapsed": false
   },
   "outputs": [
    {
     "data": {
      "text/html": [
       "<div>\n",
       "<table border=\"1\" class=\"dataframe\">\n",
       "  <thead>\n",
       "    <tr style=\"text-align: right;\">\n",
       "      <th></th>\n",
       "      <th>Precio</th>\n",
       "    </tr>\n",
       "  </thead>\n",
       "  <tbody>\n",
       "    <tr>\n",
       "      <th>1985-05</th>\n",
       "      <td>36.6383</td>\n",
       "    </tr>\n",
       "    <tr>\n",
       "      <th>1985-06</th>\n",
       "      <td>35.4184</td>\n",
       "    </tr>\n",
       "    <tr>\n",
       "      <th>1985-07</th>\n",
       "      <td>34.2709</td>\n",
       "    </tr>\n",
       "    <tr>\n",
       "      <th>1985-08</th>\n",
       "      <td>33.8411</td>\n",
       "    </tr>\n",
       "    <tr>\n",
       "      <th>1985-09</th>\n",
       "      <td>34.6826</td>\n",
       "    </tr>\n",
       "    <tr>\n",
       "      <th>1985-10</th>\n",
       "      <td>33.4498</td>\n",
       "    </tr>\n",
       "    <tr>\n",
       "      <th>1985-11</th>\n",
       "      <td>34.1048</td>\n",
       "    </tr>\n",
       "    <tr>\n",
       "      <th>1985-12</th>\n",
       "      <td>29.5807</td>\n",
       "    </tr>\n",
       "    <tr>\n",
       "      <th>1986-01</th>\n",
       "      <td>25.2609</td>\n",
       "    </tr>\n",
       "    <tr>\n",
       "      <th>1986-02</th>\n",
       "      <td>16.8622</td>\n",
       "    </tr>\n",
       "    <tr>\n",
       "      <th>1986-03</th>\n",
       "      <td>13.3181</td>\n",
       "    </tr>\n",
       "    <tr>\n",
       "      <th>1986-04</th>\n",
       "      <td>12.5621</td>\n",
       "    </tr>\n",
       "    <tr>\n",
       "      <th>1986-05</th>\n",
       "      <td>14.2754</td>\n",
       "    </tr>\n",
       "    <tr>\n",
       "      <th>1986-06</th>\n",
       "      <td>12.2961</td>\n",
       "    </tr>\n",
       "    <tr>\n",
       "      <th>1986-07</th>\n",
       "      <td>10.0871</td>\n",
       "    </tr>\n",
       "    <tr>\n",
       "      <th>1986-08</th>\n",
       "      <td>13.5117</td>\n",
       "    </tr>\n",
       "    <tr>\n",
       "      <th>1986-09</th>\n",
       "      <td>13.9921</td>\n",
       "    </tr>\n",
       "    <tr>\n",
       "      <th>1986-10</th>\n",
       "      <td>13.6932</td>\n",
       "    </tr>\n",
       "    <tr>\n",
       "      <th>1986-11</th>\n",
       "      <td>14.4211</td>\n",
       "    </tr>\n",
       "    <tr>\n",
       "      <th>1986-12</th>\n",
       "      <td>15.3397</td>\n",
       "    </tr>\n",
       "    <tr>\n",
       "      <th>1987-01</th>\n",
       "      <td>16.5182</td>\n",
       "    </tr>\n",
       "    <tr>\n",
       "      <th>1987-02</th>\n",
       "      <td>15.2809</td>\n",
       "    </tr>\n",
       "    <tr>\n",
       "      <th>1987-03</th>\n",
       "      <td>15.6204</td>\n",
       "    </tr>\n",
       "    <tr>\n",
       "      <th>1987-04</th>\n",
       "      <td>15.5698</td>\n",
       "    </tr>\n",
       "    <tr>\n",
       "      <th>1987-05</th>\n",
       "      <td>15.9458</td>\n",
       "    </tr>\n",
       "    <tr>\n",
       "      <th>1987-06</th>\n",
       "      <td>16.4063</td>\n",
       "    </tr>\n",
       "    <tr>\n",
       "      <th>1987-07</th>\n",
       "      <td>17.5500</td>\n",
       "    </tr>\n",
       "    <tr>\n",
       "      <th>1987-08</th>\n",
       "      <td>17.0353</td>\n",
       "    </tr>\n",
       "    <tr>\n",
       "      <th>1987-09</th>\n",
       "      <td>16.0591</td>\n",
       "    </tr>\n",
       "    <tr>\n",
       "      <th>1987-10</th>\n",
       "      <td>16.3643</td>\n",
       "    </tr>\n",
       "    <tr>\n",
       "      <th>...</th>\n",
       "      <td>...</td>\n",
       "    </tr>\n",
       "    <tr>\n",
       "      <th>2011-03</th>\n",
       "      <td>82.1068</td>\n",
       "    </tr>\n",
       "    <tr>\n",
       "      <th>2011-04</th>\n",
       "      <td>85.1395</td>\n",
       "    </tr>\n",
       "    <tr>\n",
       "      <th>2011-05</th>\n",
       "      <td>79.8296</td>\n",
       "    </tr>\n",
       "    <tr>\n",
       "      <th>2011-06</th>\n",
       "      <td>79.0854</td>\n",
       "    </tr>\n",
       "    <tr>\n",
       "      <th>2011-07</th>\n",
       "      <td>81.7058</td>\n",
       "    </tr>\n",
       "    <tr>\n",
       "      <th>2011-08</th>\n",
       "      <td>76.7140</td>\n",
       "    </tr>\n",
       "    <tr>\n",
       "      <th>2011-09</th>\n",
       "      <td>79.8159</td>\n",
       "    </tr>\n",
       "    <tr>\n",
       "      <th>2011-10</th>\n",
       "      <td>78.9365</td>\n",
       "    </tr>\n",
       "    <tr>\n",
       "      <th>2011-11</th>\n",
       "      <td>81.3574</td>\n",
       "    </tr>\n",
       "    <tr>\n",
       "      <th>2011-12</th>\n",
       "      <td>81.6568</td>\n",
       "    </tr>\n",
       "    <tr>\n",
       "      <th>2012-01</th>\n",
       "      <td>86.2344</td>\n",
       "    </tr>\n",
       "    <tr>\n",
       "      <th>2012-02</th>\n",
       "      <td>89.7464</td>\n",
       "    </tr>\n",
       "    <tr>\n",
       "      <th>2012-03</th>\n",
       "      <td>94.2123</td>\n",
       "    </tr>\n",
       "    <tr>\n",
       "      <th>2012-04</th>\n",
       "      <td>91.3811</td>\n",
       "    </tr>\n",
       "    <tr>\n",
       "      <th>2012-05</th>\n",
       "      <td>86.0061</td>\n",
       "    </tr>\n",
       "    <tr>\n",
       "      <th>2012-06</th>\n",
       "      <td>76.4181</td>\n",
       "    </tr>\n",
       "    <tr>\n",
       "      <th>2012-07</th>\n",
       "      <td>83.3615</td>\n",
       "    </tr>\n",
       "    <tr>\n",
       "      <th>2012-08</th>\n",
       "      <td>90.4529</td>\n",
       "    </tr>\n",
       "    <tr>\n",
       "      <th>2012-09</th>\n",
       "      <td>87.9202</td>\n",
       "    </tr>\n",
       "    <tr>\n",
       "      <th>2012-10</th>\n",
       "      <td>85.5900</td>\n",
       "    </tr>\n",
       "    <tr>\n",
       "      <th>2012-11</th>\n",
       "      <td>84.8372</td>\n",
       "    </tr>\n",
       "    <tr>\n",
       "      <th>2012-12</th>\n",
       "      <td>82.7839</td>\n",
       "    </tr>\n",
       "    <tr>\n",
       "      <th>2013-01</th>\n",
       "      <td>84.1874</td>\n",
       "    </tr>\n",
       "    <tr>\n",
       "      <th>2013-02</th>\n",
       "      <td>86.7123</td>\n",
       "    </tr>\n",
       "    <tr>\n",
       "      <th>2013-03</th>\n",
       "      <td>84.1555</td>\n",
       "    </tr>\n",
       "    <tr>\n",
       "      <th>2013-04</th>\n",
       "      <td>79.3453</td>\n",
       "    </tr>\n",
       "    <tr>\n",
       "      <th>2013-05</th>\n",
       "      <td>79.2452</td>\n",
       "    </tr>\n",
       "    <tr>\n",
       "      <th>2013-06</th>\n",
       "      <td>78.3375</td>\n",
       "    </tr>\n",
       "    <tr>\n",
       "      <th>2013-07</th>\n",
       "      <td>81.8711</td>\n",
       "    </tr>\n",
       "    <tr>\n",
       "      <th>2013-08</th>\n",
       "      <td>82.5541</td>\n",
       "    </tr>\n",
       "  </tbody>\n",
       "</table>\n",
       "<p>340 rows × 1 columns</p>\n",
       "</div>"
      ],
      "text/plain": [
       "          Precio\n",
       "1985-05  36.6383\n",
       "1985-06  35.4184\n",
       "1985-07  34.2709\n",
       "1985-08  33.8411\n",
       "1985-09  34.6826\n",
       "1985-10  33.4498\n",
       "1985-11  34.1048\n",
       "1985-12  29.5807\n",
       "1986-01  25.2609\n",
       "1986-02  16.8622\n",
       "1986-03  13.3181\n",
       "1986-04  12.5621\n",
       "1986-05  14.2754\n",
       "1986-06  12.2961\n",
       "1986-07  10.0871\n",
       "1986-08  13.5117\n",
       "1986-09  13.9921\n",
       "1986-10  13.6932\n",
       "1986-11  14.4211\n",
       "1986-12  15.3397\n",
       "1987-01  16.5182\n",
       "1987-02  15.2809\n",
       "1987-03  15.6204\n",
       "1987-04  15.5698\n",
       "1987-05  15.9458\n",
       "1987-06  16.4063\n",
       "1987-07  17.5500\n",
       "1987-08  17.0353\n",
       "1987-09  16.0591\n",
       "1987-10  16.3643\n",
       "...          ...\n",
       "2011-03  82.1068\n",
       "2011-04  85.1395\n",
       "2011-05  79.8296\n",
       "2011-06  79.0854\n",
       "2011-07  81.7058\n",
       "2011-08  76.7140\n",
       "2011-09  79.8159\n",
       "2011-10  78.9365\n",
       "2011-11  81.3574\n",
       "2011-12  81.6568\n",
       "2012-01  86.2344\n",
       "2012-02  89.7464\n",
       "2012-03  94.2123\n",
       "2012-04  91.3811\n",
       "2012-05  86.0061\n",
       "2012-06  76.4181\n",
       "2012-07  83.3615\n",
       "2012-08  90.4529\n",
       "2012-09  87.9202\n",
       "2012-10  85.5900\n",
       "2012-11  84.8372\n",
       "2012-12  82.7839\n",
       "2013-01  84.1874\n",
       "2013-02  86.7123\n",
       "2013-03  84.1555\n",
       "2013-04  79.3453\n",
       "2013-05  79.2452\n",
       "2013-06  78.3375\n",
       "2013-07  81.8711\n",
       "2013-08  82.5541\n",
       "\n",
       "[340 rows x 1 columns]"
      ]
     },
     "execution_count": 1,
     "metadata": {},
     "output_type": "execute_result"
    }
   ],
   "source": [
    "# Sol:\n",
    "import pandas as pd\n",
    "import pandas as pd\n",
    "nombres=['Precio']\n",
    "datos=pd.read_csv('oil_price_monthly.csv', names=nombres,  index_col = 0)\n",
    "datos"
   ]
  },
  {
   "cell_type": "code",
   "execution_count": 4,
   "metadata": {
    "collapsed": false
   },
   "outputs": [
    {
     "data": {
      "image/png": "[encoded data removed]",
      "text/plain": [
       "<matplotlib.figure.Figure at 0x7ff7208f0d68>"
      ]
     },
     "metadata": {},
     "output_type": "display_data"
    }
   ],
   "source": [
    "# Rrepresenta gráficamente la evolución de los precios\n",
    "import matplotlib as mpl\n",
    "import matplotlib.pyplot as plt\n",
    "\n",
    "%matplotlib inline\n",
    "\n",
    "datos.plot(title = 'Evolucion Precios',\n",
    "                          figsize=(9,4));                           # Tamaño de la figura"
   ]
  },
  {
   "cell_type": "markdown",
   "metadata": {},
   "source": [
    "---\n",
    "* Determinar el mes y el año donde por primera vez el precio del petróleo superó los 40 euros, los 60 y los 80 euros.\n",
    "    * Primero crea un DataFrame con el mes y el año donde por primera vez el precio del petróleo superó los 40.\n",
    "    * En segundo lugar crea un DataFrame con el mes y el año donde por primera vez el precio del petróleo superó los 60.\n",
    "    * En tercer lugar crea un DataFrame con el mes y el año donde por primera vez el precio del petróleo superó los 80.\n",
    "    * Consulta la ayuda de la función `join` para saber cómo funciona y para qué sirve. Para ello ejecuta `pd.join?`.\n",
    "    * Utiliza la función `join` para unir los datos en un unico DataFrame.\n",
    "\n",
    "La solución es 2005-03, 2007-11, 2008-05."
   ]
  },
  {
   "cell_type": "code",
   "execution_count": 1,
   "metadata": {
    "collapsed": false
   },
   "outputs": [],
   "source": [
    "#Sol:\n"
   ]
  },
  {
   "cell_type": "markdown",
   "metadata": {
    "collapsed": true
   },
   "source": [
    "#### 2 Ejercicio"
   ]
  },
  {
   "cell_type": "markdown",
   "metadata": {},
   "source": [
    "El fichero [rotterdam_rainfall.txt](./datos/rotterdam_rainfall.txt) recoge los datos de las precipitaciones diarias de la estación meteorológica de Rotterdam en 2012.\n",
    "\n",
    "* La primera columna representa la fecha\n",
    "* La segunda columna representa la cantidad de precipitaciones expresado en 0.1 mm (-1 si es menor a 0.05 mm).\n",
    "\n",
    "__Notas__:\n",
    "\n",
    "* Carga los datos en un DataFrame con la función __read_csv__\n",
    "* El índice del DataFrame ha de ser la fecha\n"
   ]
  },
  {
   "cell_type": "code",
   "execution_count": 2,
   "metadata": {
    "collapsed": false
   },
   "outputs": [],
   "source": [
    "# Sol\n",
    "import pandas as pd\n"
   ]
  },
  {
   "cell_type": "markdown",
   "metadata": {},
   "source": [
    "* Modifica los valores de la cantidad de precipitaciones a 0 cuando su valor sea -1."
   ]
  },
  {
   "cell_type": "code",
   "execution_count": 3,
   "metadata": {
    "collapsed": false
   },
   "outputs": [],
   "source": [
    "# Sol:\n",
    "\n"
   ]
  },
  {
   "cell_type": "markdown",
   "metadata": {},
   "source": [
    "-----\n",
    "* Calcula el día que ha tenido mayor cantidad de precipitación y la cantidad de precipitación"
   ]
  },
  {
   "cell_type": "code",
   "execution_count": 4,
   "metadata": {
    "collapsed": false
   },
   "outputs": [],
   "source": [
    "# Sol:\n"
   ]
  },
  {
   "cell_type": "markdown",
   "metadata": {},
   "source": [
    "## References"
   ]
  },
  {
   "cell_type": "markdown",
   "metadata": {},
   "source": [
    "http://nbviewer.ipython.org/github/mbakker7/exploratory_computing_with_python/tree/master/"
   ]
  },
  {
   "cell_type": "markdown",
   "metadata": {},
   "source": [
    "-----\n"
   ]
  }
 ],
 "metadata": {
  "anaconda-cloud": {},
  "kernelspec": {
   "display_name": "Python 3",
   "language": "python",
   "name": "python3"
  },
  "language_info": {
   "codemirror_mode": {
    "name": "ipython",
    "version": 3
   },
   "file_extension": ".py",
   "mimetype": "text/x-python",
   "name": "python",
   "nbconvert_exporter": "python",
   "pygments_lexer": "ipython3",
   "version": "3.6.0"
  }
 },
 "nbformat": 4,
 "nbformat_minor": 0
}
