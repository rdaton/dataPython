{
 "cells": [
  {
   "cell_type": "markdown",
   "metadata": {},
   "source": [
    "#  Ejercicios "
   ]
  },
  {
   "cell_type": "markdown",
   "metadata": {},
   "source": [
    "#### 1 Ejercicio"
   ]
  },
  {
   "cell_type": "markdown",
   "metadata": {},
   "source": [
    "Dada la lista L = [ 1, 2, 3, 4, 5, 6, 7, 8, 9 ], escribe expresiones en Python que produzcan los siguientes resultados:\n",
    "\n",
    "1. El primer elemento de la lista.\n",
    "2. El último elemento de la lista (Sin conocer la longitud de la lista).\n",
    "3. La sublista con los dos últimos elementos. (Sol: [8, 9])\n",
    "4. La sublista de los elementos que ocupan posiciones pares. (Sol: [1, 3, 5, 7, 9])\n",
    "4. La sublista de los elementos que ocupan posiciones impares. (Sol: [2, 4, 6, 8])"
   ]
  },
  {
   "cell_type": "code",
   "execution_count": 26,
   "metadata": {
    "collapsed": false
   },
   "outputs": [
    {
     "data": {
      "text/plain": [
       "1"
      ]
     },
     "execution_count": 26,
     "metadata": {},
     "output_type": "execute_result"
    }
   ],
   "source": [
    "# Sol 1: \n",
    "L = [ 1, 2, 3, 4, 5, 6, 7, 8, 9 ]\n",
    "\n",
    "def head(L):\n",
    "    if (L):\n",
    "        return L[0]\n",
    "    else:\n",
    "        return None\n",
    "    \n",
    "head(L)    "
   ]
  },
  {
   "cell_type": "code",
   "execution_count": 2,
   "metadata": {
    "collapsed": false
   },
   "outputs": [
    {
     "data": {
      "text/plain": [
       "9"
      ]
     },
     "execution_count": 2,
     "metadata": {},
     "output_type": "execute_result"
    }
   ],
   "source": [
    "# Sol 2:\n",
    "def last(L):\n",
    "    if (L):\n",
    "        return L[-1]\n",
    "    else:\n",
    "        return None\n",
    "\n",
    "last(L)    \n",
    "    "
   ]
  },
  {
   "cell_type": "code",
   "execution_count": 23,
   "metadata": {
    "collapsed": false
   },
   "outputs": [
    {
     "data": {
      "text/plain": [
       "[8, 9]"
      ]
     },
     "execution_count": 23,
     "metadata": {},
     "output_type": "execute_result"
    }
   ],
   "source": [
    "# Sol 3:\n",
    "def nUltimos(L,a):\n",
    "    if (len(L)>=a):\n",
    "        return L[-a:]\n",
    "    else:\n",
    "        return None\n",
    "    \n",
    "nUltimos(L,2)"
   ]
  },
  {
   "cell_type": "code",
   "execution_count": 13,
   "metadata": {
    "collapsed": false
   },
   "outputs": [
    {
     "data": {
      "text/plain": [
       "[1, 3, 5, 7, 9]"
      ]
     },
     "execution_count": 13,
     "metadata": {},
     "output_type": "execute_result"
    }
   ],
   "source": [
    "# Sol 4:\n",
    "L[0::2]"
   ]
  },
  {
   "cell_type": "code",
   "execution_count": 26,
   "metadata": {
    "collapsed": false
   },
   "outputs": [
    {
     "data": {
      "text/plain": [
       "[2, 4, 6, 8]"
      ]
     },
     "execution_count": 26,
     "metadata": {},
     "output_type": "execute_result"
    }
   ],
   "source": [
    "# Sol 5:\n",
    "L[1::2]"
   ]
  },
  {
   "cell_type": "markdown",
   "metadata": {},
   "source": [
    "#### 2 Ejercicio"
   ]
  },
  {
   "cell_type": "markdown",
   "metadata": {},
   "source": [
    "Dada una lista de enteros a y un número entero n, define:\n",
    "1. una función llamada __contar__ que calcule el número de veces que se repite n en a.\n",
    "2. una función llamada __porcentaje__ que calcule el porcentaje de veces que se repite n en a.\n",
    "\n",
    "_Nota_: utiliza los métodos __len__ y __count__. \n",
    "* Puedes ejecutar __list.count?__ para obtener ayuda del método __count__.\n",
    "* Puedes ejecutar __help(list.count)__ para obtener ayuda del método __count__."
   ]
  },
  {
   "cell_type": "code",
   "execution_count": 30,
   "metadata": {
    "collapsed": false
   },
   "outputs": [],
   "source": [
    "M = [ 1, 59, 59, 4, 5, 6, 7, 8, 9 ]\n",
    "\n",
    "# Sol: \n",
    "def contar(a,n):\n",
    "    return a.count(n);\n",
    "\n",
    "def porcentajeVeces(a,n):\n",
    "    nVeces=contar(a,n)\n",
    "    return contar(a,n)*100/len(a)"
   ]
  },
  {
   "cell_type": "markdown",
   "metadata": {
    "collapsed": false
   },
   "source": [
    "Prueba las funciones con los argumentos `a = m` y `n = 4`."
   ]
  },
  {
   "cell_type": "code",
   "execution_count": 32,
   "metadata": {
    "collapsed": false
   },
   "outputs": [
    {
     "name": "stdout",
     "output_type": "stream",
     "text": [
      "Número de veces: 3 y porcentaje 18.75\n"
     ]
    }
   ],
   "source": [
    "# Sol: \n",
    "m = [1, 2, 3, 4, 5, 6, 7, 8, 9, 0, 2, 4, 6, 8, 1, 4]\n",
    "\n",
    "c=contar(m,4)\n",
    "\n",
    "p=porcentajeVeces(m,4)\n",
    "\n",
    "unaCadena=(\"Número de veces: %.d y porcentaje %.2f\") % (c,p)\n",
    "print(unaCadena)"
   ]
  },
  {
   "cell_type": "markdown",
   "metadata": {},
   "source": [
    "#### 3 Ejercicio"
   ]
  },
  {
   "cell_type": "markdown",
   "metadata": {},
   "source": [
    "La función  __upper__ del tipo __string__ genera una nueva cadena de caracteres, donde todos los caracteres son mayúsculas.\n",
    "Dada la siguiente cadena:"
   ]
  },
  {
   "cell_type": "code",
   "execution_count": 33,
   "metadata": {
    "collapsed": false
   },
   "outputs": [
    {
     "data": {
      "text/plain": [
       "'HOLA, ME LLAMO IÑIGO MONTOYA, TÚ MATASTE A MI PADRE. ... PREPÁRATE A MORIR'"
      ]
     },
     "execution_count": 33,
     "metadata": {},
     "output_type": "execute_result"
    }
   ],
   "source": [
    "# ejecuta esta celda\n",
    "s = 'Hola, me llamo Iñigo Montoya, tú mataste a mi padre. ... Prepárate a morir'\n",
    "s.upper()"
   ]
  },
  {
   "cell_type": "markdown",
   "metadata": {},
   "source": [
    "* Genera una cadena __t__ igual que __s__ pero en mayúsculas. Calcula la longitud de t.\n",
    "* Ejecuta la función  __split(',')__. Fíjate en lo que devuelve esa función. \n",
    "* Ejecuta la función __lower()__.\n",
    "* Ejecuta la función  __title()__.\n",
    "* Ejecuta __dir(str)__ para listar las funciones disponibles para trabajar con cadenas."
   ]
  },
  {
   "cell_type": "code",
   "execution_count": 48,
   "metadata": {
    "collapsed": false
   },
   "outputs": [
    {
     "name": "stdout",
     "output_type": "stream",
     "text": [
      "HOLA, ME LLAMO IÑIGO MONTOYA, TÚ MATASTE A MI PADRE. ... PREPÁRATE A MORIR\n",
      "['Hola', ' me llamo Iñigo Montoya', ' tú mataste a mi padre. ... Prepárate a morir']\n",
      "hola, me llamo iñigo montoya, tú mataste a mi padre. ... prepárate a morir\n",
      "Hola, Me Llamo Iñigo Montoya, Tú Mataste A Mi Padre. ... Prepárate A Morir\n"
     ]
    },
    {
     "data": {
      "text/plain": [
       "['__add__',\n",
       " '__class__',\n",
       " '__contains__',\n",
       " '__delattr__',\n",
       " '__dir__',\n",
       " '__doc__',\n",
       " '__eq__',\n",
       " '__format__',\n",
       " '__ge__',\n",
       " '__getattribute__',\n",
       " '__getitem__',\n",
       " '__getnewargs__',\n",
       " '__gt__',\n",
       " '__hash__',\n",
       " '__init__',\n",
       " '__init_subclass__',\n",
       " '__iter__',\n",
       " '__le__',\n",
       " '__len__',\n",
       " '__lt__',\n",
       " '__mod__',\n",
       " '__mul__',\n",
       " '__ne__',\n",
       " '__new__',\n",
       " '__reduce__',\n",
       " '__reduce_ex__',\n",
       " '__repr__',\n",
       " '__rmod__',\n",
       " '__rmul__',\n",
       " '__setattr__',\n",
       " '__sizeof__',\n",
       " '__str__',\n",
       " '__subclasshook__',\n",
       " 'capitalize',\n",
       " 'casefold',\n",
       " 'center',\n",
       " 'count',\n",
       " 'encode',\n",
       " 'endswith',\n",
       " 'expandtabs',\n",
       " 'find',\n",
       " 'format',\n",
       " 'format_map',\n",
       " 'index',\n",
       " 'isalnum',\n",
       " 'isalpha',\n",
       " 'isdecimal',\n",
       " 'isdigit',\n",
       " 'isidentifier',\n",
       " 'islower',\n",
       " 'isnumeric',\n",
       " 'isprintable',\n",
       " 'isspace',\n",
       " 'istitle',\n",
       " 'isupper',\n",
       " 'join',\n",
       " 'ljust',\n",
       " 'lower',\n",
       " 'lstrip',\n",
       " 'maketrans',\n",
       " 'partition',\n",
       " 'replace',\n",
       " 'rfind',\n",
       " 'rindex',\n",
       " 'rjust',\n",
       " 'rpartition',\n",
       " 'rsplit',\n",
       " 'rstrip',\n",
       " 'split',\n",
       " 'splitlines',\n",
       " 'startswith',\n",
       " 'strip',\n",
       " 'swapcase',\n",
       " 'title',\n",
       " 'translate',\n",
       " 'upper',\n",
       " 'zfill']"
      ]
     },
     "execution_count": 48,
     "metadata": {},
     "output_type": "execute_result"
    }
   ],
   "source": [
    "# Sol: \n",
    "s = 'Hola, me llamo Iñigo Montoya, tú mataste a mi padre. ... Prepárate a morir'\n",
    "t = s.upper()\n",
    "print(t)\n",
    "u = s.split(',')\n",
    "print(u)\n",
    "w=t.lower()\n",
    "print(w)\n",
    "v=s.title()\n",
    "print(v)\n",
    "dir(str)"
   ]
  },
  {
   "cell_type": "markdown",
   "metadata": {},
   "source": [
    "#### 4 Ejercicio\n",
    "\n",
    "Dada la lista de las ciudades más pobladas de Italia __it__:\n",
    "\n",
    "it = [ 'Roma', 'Milán', 'Nápoles', 'Turín', 'Palermo' , 'Génova',\n",
    "      'Bolonia', 'Florencia', 'Bari', 'Catania']\n",
    "      \n",
    "* Crea un diccionario donde la clave sea la posición que ocupa cada ciudad en la lista. Para hacerlo sigue estas indicaciones:\n",
    "    * Crea una secuencia de enteros mediante la función __range__. El inicio de la secuencia es el cero y el fin de la secuencia es la longitud de la lista de poblaciones de Italia.\n",
    "    * Crea una lista __m__ de tuplas del tipo  (pos, ciudad). Utiliza la función __zip__.\n",
    "    * Utiliza la función __dict__ para construir el diccionario a partir de la lista __m__."
   ]
  },
  {
   "cell_type": "code",
   "execution_count": 70,
   "metadata": {
    "collapsed": false
   },
   "outputs": [
    {
     "data": {
      "text/plain": [
       "\"\\n{0: 'Roma',\\n 1: 'Milán',\\n 2: 'Nápoles',\\n 3: 'Turín',\\n 4: 'Palermo',\\n 5: 'Génova',\\n 6: 'Bolonia',\\n 7: 'Florencia',\\n 8: 'Bari',\\n 9: 'Catania'}\\n\""
      ]
     },
     "execution_count": 70,
     "metadata": {},
     "output_type": "execute_result"
    }
   ],
   "source": [
    "# El diccionario pedido tiene esta forma:\n",
    "'''\n",
    "{0: 'Roma',\n",
    " 1: 'Milán',\n",
    " 2: 'Nápoles',\n",
    " 3: 'Turín',\n",
    " 4: 'Palermo',\n",
    " 5: 'Génova',\n",
    " 6: 'Bolonia',\n",
    " 7: 'Florencia',\n",
    " 8: 'Bari',\n",
    " 9: 'Catania'}\n",
    "'''\n"
   ]
  },
  {
   "cell_type": "code",
   "execution_count": 71,
   "metadata": {
    "collapsed": false
   },
   "outputs": [
    {
     "data": {
      "text/plain": [
       "{0: 'Roma',\n",
       " 1: 'Milán',\n",
       " 2: 'Nápoles',\n",
       " 3: 'Turín',\n",
       " 4: 'Palermo',\n",
       " 5: 'Génova',\n",
       " 6: 'Bolonia',\n",
       " 7: 'Florencia',\n",
       " 8: 'Bari',\n",
       " 9: 'Catania'}"
      ]
     },
     "execution_count": 71,
     "metadata": {},
     "output_type": "execute_result"
    }
   ],
   "source": [
    "# Sol:\n",
    "\n",
    "it = [ 'Roma', 'Milán', 'Nápoles', 'Turín', 'Palermo' , 'Génova',\n",
    "\n",
    "      'Bolonia', 'Florencia', 'Bari', 'Catania']\n",
    "misInt= list (range(len(it)))\n",
    "miDict=dict(zip(misInt,it))      \n",
    "miDict"
   ]
  },
  {
   "cell_type": "markdown",
   "metadata": {},
   "source": [
    "#### 5 Ejercicio\n",
    "\n",
    "La función __convertirF2C__ convierte grados Fahrenheit en grados centígrados. "
   ]
  },
  {
   "cell_type": "code",
   "execution_count": 1,
   "metadata": {
    "collapsed": true
   },
   "outputs": [],
   "source": [
    "# Ejecuta esta celda\n",
    "def convertirF2C(f):\n",
    "    return  ( f - 32 ) * 5 / 9"
   ]
  },
  {
   "cell_type": "markdown",
   "metadata": {},
   "source": [
    "* Utiliza la función __convertirF2C__ para generar la siguiente tabla de conversión:\n",
    "\n",
    "```\n",
    "0:º F = -17.8º C\n",
    "10:º F = -12.2º C\n",
    "20:º F = -6.7º C\n",
    "    ...\n",
    "100:º F = 37.8º C\n",
    "110:º F = 43.3º C\n",
    "120:º F = 48.9º C\n",
    "```\n",
    "\n",
    "__Nota__:\n",
    "* Genera la lista de valores [0, ... , 120] con la función __range__.\n",
    "* Utiliza un bucle __for__ para calcular los grados centígrados de cada elemento de la lista de valores.\n",
    "* Utiliza los operadores de formato `%d` y `%.1f` para escribir los resultados."
   ]
  },
  {
   "cell_type": "code",
   "execution_count": 17,
   "metadata": {
    "collapsed": false
   },
   "outputs": [
    {
     "name": "stdout",
     "output_type": "stream",
     "text": [
      " 0 :º F = -17.8 º C\n",
      " 10 :º F = -12.2 º C\n",
      " 20 :º F = -6.7 º C\n",
      " 30 :º F = -1.1 º C\n",
      " 40 :º F = 4.4 º C\n",
      " 50 :º F = 10.0 º C\n",
      " 60 :º F = 15.6 º C\n",
      " 70 :º F = 21.1 º C\n",
      " 80 :º F = 26.7 º C\n",
      " 90 :º F = 32.2 º C\n",
      " 100 :º F = 37.8 º C\n",
      " 110 :º F = 43.3 º C\n",
      " 120 :º F = 48.9 º C\n"
     ]
    }
   ],
   "source": [
    "# Sol:\n",
    "MIN_TEMP=0\n",
    "MAX_TEMP=120\n",
    "DELTA=10\n",
    "listaIndices=list(range(MIN_TEMP, MAX_TEMP+1, DELTA))\n",
    "listaTemp=[]\n",
    "for i in listaIndices:\n",
    "    listaTemp.append(convertirF2C(i))\n",
    "unaCadena=''  \n",
    "for elem in zip(listaIndices,listaTemp) :\n",
    "    unaCadena=(\" %.d :º F = %.1f º C\") %(elem[0],elem[1])\n",
    "    print (unaCadena)"
   ]
  },
  {
   "cell_type": "markdown",
   "metadata": {},
   "source": [
    "#### 6 Ejercicio\n",
    "\n",
    "Los 15 primeros números triangulares son:\n",
    "\n",
    "```\n",
    "[0, 1, 3, 6, 10, 15, 21, 28, 36, 45, 55, 66, 78, 91, 105]\n",
    "```\n",
    "\n",
    "Define una función __triang_1__ que reciba un número entero positivo $n$ como argumento y genere la lista de los `n` primeros números triangulares. Resuelve el problema aplicando la fórmula a_n = n * (n + 1) / 2. __Utiliza listas por comprensión__.\n",
    "\n",
    "__Nota:__\n",
    "\n",
    "* Genera primero los n primeros números comenzando por el 0 y utilizando la función __range__.\n",
    "\n",
    "\n"
   ]
  },
  {
   "cell_type": "code",
   "execution_count": 21,
   "metadata": {
    "collapsed": false
   },
   "outputs": [
    {
     "data": {
      "text/plain": [
       "[0, 1, 3, 6, 10, 15, 21, 28, 36, 45, 55, 66, 78, 91, 105]"
      ]
     },
     "execution_count": 21,
     "metadata": {},
     "output_type": "execute_result"
    }
   ],
   "source": [
    "# Sol:\n",
    "def triang_1(N):\n",
    "    return [int((i*(i+1)/2)) for i in range(N)]\n",
    "\n",
    "triang_1(15)\n"
   ]
  },
  {
   "cell_type": "markdown",
   "metadata": {},
   "source": [
    "#### 7 Ejercicio\n",
    "\n",
    "Dado el diccionario de las ciudades más pobladas de Italia __ciudades__:\n",
    "\n",
    "d =  { 1: 'Roma', 2: 'Milán', 3:'Nápoles', 4:'Turín', 5:'Palermo' ,6: 'Génova',\n",
    "      7:'Bolonia', 8:'Florencia', 9:'Bari', 10:'Catania'}\n",
    "      \n",
    "y la lista __pob__ que contiene información de la cantidad de población en cada ciudad:\n",
    "\n",
    "pob =  [2718768, 1299633, 973132, 908263, 663173, 610887, 372256, 364710, 322511, 298957]\n",
    "\n",
    "* crea un nuevo diccionario donde cada elemento sea de la forma\n",
    "\n",
    "__i: [ciudad,poblacion]__\n",
    "\n",
    "__Nota__: Utiliza listas por comprensión. La función __enumerate__ también te puede ayudar."
   ]
  },
  {
   "cell_type": "code",
   "execution_count": 26,
   "metadata": {
    "collapsed": false
   },
   "outputs": [
    {
     "data": {
      "text/plain": [
       "{'Bari': 322511,\n",
       " 'Bolonia': 372256,\n",
       " 'Catania': 298957,\n",
       " 'Florencia': 364710,\n",
       " 'Génova': 610887,\n",
       " 'Milán': 1299633,\n",
       " 'Nápoles': 973132,\n",
       " 'Palermo': 663173,\n",
       " 'Roma': 2718768,\n",
       " 'Turín': 908263}"
      ]
     },
     "execution_count": 26,
     "metadata": {},
     "output_type": "execute_result"
    }
   ],
   "source": [
    "pob = [2718768, 1299633, 973132, 908263, 663173, 610887, 372256, 364710, \n",
    "       322511, 298957]\n",
    "d = { 1: 'Roma', 2: 'Milán', 3:'Nápoles', 4:'Turín', 5:'Palermo' ,\n",
    "     6: 'Génova',   \\\n",
    "      7:'Bolonia', 8:'Florencia', 9:'Bari', 10:'Catania'}\n",
    "# Sol\n",
    "dict([i for i in zip(d.values(),pob)])"
   ]
  },
  {
   "cell_type": "markdown",
   "metadata": {},
   "source": [
    "-------------------"
   ]
  }
 ],
 "metadata": {
  "anaconda-cloud": {},
  "kernelspec": {
   "display_name": "Python 3",
   "language": "python",
   "name": "python3"
  },
  "language_info": {
   "codemirror_mode": {
    "name": "ipython",
    "version": 3
   },
   "file_extension": ".py",
   "mimetype": "text/x-python",
   "name": "python",
   "nbconvert_exporter": "python",
   "pygments_lexer": "ipython3",
   "version": "3.6.0"
  }
 },
 "nbformat": 4,
 "nbformat_minor": 0
}
